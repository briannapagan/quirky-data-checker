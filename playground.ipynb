{
 "cells": [
  {
   "cell_type": "code",
   "execution_count": 1,
   "metadata": {},
   "outputs": [],
   "source": [
    "from cmr import CollectionQuery, GranuleQuery, ToolQuery, ServiceQuery, VariableQuery\n",
    "import xarray as xr\n",
    "import numpy as np\n",
    "import pandas as pd"
   ]
  },
  {
   "cell_type": "code",
   "execution_count": 2,
   "metadata": {},
   "outputs": [
    {
     "name": "stdout",
     "output_type": "stream",
     "text": [
      "provider GES_DISC has 1791 to check\n"
     ]
    }
   ],
   "source": [
    "provider = 'GES_DISC'\n",
    "api = CollectionQuery()\n",
    "collections = api.provider(provider).get_all()\n",
    "\n",
    "print('provider ' + provider + ' has ' + str(np.shape(collections)[0]) + ' to check')"
   ]
  },
  {
   "cell_type": "code",
   "execution_count": null,
   "metadata": {},
   "outputs": [],
   "source": [
    "# sad that because GES DISC didn't leverage opendap flags we have to use this\n",
    "# silly way to identify those collections :( )\n",
    "\n",
    "# should we add filter for just checking level 3/4 products? \n",
    "# for now will summarize by this info "
   ]
  },
  {
   "cell_type": "code",
   "execution_count": 3,
   "metadata": {},
   "outputs": [
    {
     "name": "stdout",
     "output_type": "stream",
     "text": [
      "provider GES_DISC has 1305 opendap collections to check\n"
     ]
    }
   ],
   "source": [
    "opendap_base_urls = []\n",
    "short_names = []\n",
    "versions = []\n",
    "processing_levels = []\n",
    "native_ids = []\n",
    "\n",
    "for collection in collections:\n",
    "    for element in collection['links']:\n",
    "        if element['rel'] == 'http://esipfed.org/ns/fedsearch/1.1/service#':\n",
    "            # this should return default url so can be on prem or cloud depending on granule\n",
    "            opendap_base_urls.append(element['href'])\n",
    "            processing_levels.append(collection['processing_level_id'])\n",
    "            versions.append(collection['version_id'])\n",
    "            short_names.append(collection['short_name'])\n",
    "            native_ids.append(collection['id'])\n",
    "            break\n",
    "\n",
    "print('provider ' + provider + ' has ' + str(np.shape(short_names)[0]) + ' opendap collections to check')"
   ]
  },
  {
   "cell_type": "code",
   "execution_count": 5,
   "metadata": {},
   "outputs": [],
   "source": [
    "# get granule for each collection, try to open with xarray\n"
   ]
  },
  {
   "cell_type": "code",
   "execution_count": 4,
   "metadata": {},
   "outputs": [],
   "source": [
    "api = GranuleQuery()\n",
    "granule = api.short_name(short_names[0]).version(versions[0]).get(1)"
   ]
  },
  {
   "cell_type": "code",
   "execution_count": 5,
   "metadata": {},
   "outputs": [
    {
     "name": "stdout",
     "output_type": "stream",
     "text": [
      "767\n",
      "768\n",
      "769\n",
      "770\n"
     ]
    },
    {
     "name": "stderr",
     "output_type": "stream",
     "text": [
      "syntax error, unexpected WORD_WORD, expecting SCAN_ATTR or SCAN_DATASET or SCAN_ERROR\n",
      "context: <!DOCTYPE^ html PUBLIC \"-//W3C//DTD XHTML 1.0 Transitional//EN\" \"http://www.w3.org/TR/xhtml1/DTD/xhtml1-transitional.dtd\"><html xmlns=\"http://www.w3.org/1999/xhtml\"><head> <meta http-equiv=\"Content-Type\" content=\"text/html; charset=UTF-8\"/> <link rel='stylesheet' href='/opendap/docs/css/contents.css' type='text/css'/> <title>Hyrax - Resource Not Found (404)</title></head><body><p align=\"left\">&nbsp;</p><h1 align=\"center\">Hyrax - Resource Not Found (404)</h1><hr align=\"left\" size=\"1\" noshade=\"noshade\"/><table width=\"100%\" border=\"0\"> <tr> <td> <a href=\"/opendap/docs/images/largeEarth.jpg\"> <img src=\"/opendap/docs/images/smallEarth.jpg\" alt=\"I looked everywhere!\" title=\"I looked everywhere!\" border=\"0\"/> </a> </td> <td> <p align=\"left\">The URL requested does not describe a resource that can be found on this server.</p> <p align=\"left\">If you would like to start at the top level of this server, go <a href=\"/opendap/\"><strong>HERE</strong></a>.</p>  <p align=\"left\">The specific error message associated with your request was:</p> <blockquote> <p><strong>Failed to locate resource: /lim93/MSULTT.001/1979/L93ch23.7994daygrd_temp_msu.nat.Z.dds </strong></p> </blockquote>   <p align=\"left\"> If you think that the server is broken (that the URL you submitted should have worked), then please contact the OPeNDAP user support coordinator at: <a href=\"mailto:gsfc-dl-help-disc@mail.nasa.gov?subject=Hyrax Error 404&amp;body=%0A%0A%0A%0A%0A# -- -- -- -- -- -- -- -- -- -- -- -- -- -- -- -- --%0A# %0A# We&#39;re sorry you had a problem using the server.%0A# Please use the space above to describe what you%0A# were trying to do and we will try to assist you.%0A# Thanks,%0A# OPeNDAP Support.%0A# %0A# -- -- -- hyrax error info, please include -- -- --%0A# %0A# request_url: http://disc1.gesdisc.eosdis.nasa.gov/opendap/error/error404.jsp%0A# protocol: HTTP/1.1%0A# server: disc1.gesdisc.eosdis.nasa.gov%0A# port: 80%0A# javax.servlet.forward.request_uri: /opendap/lim93/MSULTT.001/1979/L93ch23.7994daygrd_temp_msu.nat.Z.dds%0A# query_string: n/a%0A# status: 404%0A# message: Failed to locate resource: /lim93/MSULTT.001/1979/L93ch23.7994daygrd_temp_msu.nat.Z.dds%0A# %0A# -- -- -- -- -- -- -- -- -- -- -- -- -- -- -- -- --%0A\">gsfc-dl-help-disc@mail.nasa.gov</a> </p>  </td> </tr></table><hr align=\"left\" size=\"1\" noshade=\"noshade\"/><h1 align=\"center\">Hyrax - Resource Not Found (404)</h1></body></html>\n"
     ]
    },
    {
     "name": "stdout",
     "output_type": "stream",
     "text": [
      "771\n"
     ]
    },
    {
     "name": "stderr",
     "output_type": "stream",
     "text": [
      "syntax error, unexpected WORD_WORD, expecting SCAN_ATTR or SCAN_DATASET or SCAN_ERROR\n",
      "context: <!DOCTYPE^ html PUBLIC \"-//W3C//DTD XHTML 1.0 Transitional//EN\" \"http://www.w3.org/TR/xhtml1/DTD/xhtml1-transitional.dtd\"><html xmlns=\"http://www.w3.org/1999/xhtml\"><head> <meta http-equiv=\"Content-Type\" content=\"text/html; charset=UTF-8\"/> <link rel='stylesheet' href='/opendap/docs/css/contents.css' type='text/css'/> <title>Hyrax - Resource Not Found (404)</title></head><body><p align=\"left\">&nbsp;</p><h1 align=\"center\">Hyrax - Resource Not Found (404)</h1><hr align=\"left\" size=\"1\" noshade=\"noshade\"/><table width=\"100%\" border=\"0\"> <tr> <td> <a href=\"/opendap/docs/images/largeEarth.jpg\"> <img src=\"/opendap/docs/images/smallEarth.jpg\" alt=\"I looked everywhere!\" title=\"I looked everywhere!\" border=\"0\"/> </a> </td> <td> <p align=\"left\">The URL requested does not describe a resource that can be found on this server.</p> <p align=\"left\">If you would like to start at the top level of this server, go <a href=\"/opendap/\"><strong>HERE</strong></a>.</p>  <p align=\"left\">The specific error message associated with your request was:</p> <blockquote> <p><strong>Failed to locate resource: /lim93/MSUUTT.001/1979/L93ch34.7994daygrd_temp_msu.nat.Z.dds </strong></p> </blockquote>   <p align=\"left\"> If you think that the server is broken (that the URL you submitted should have worked), then please contact the OPeNDAP user support coordinator at: <a href=\"mailto:gsfc-dl-help-disc@mail.nasa.gov?subject=Hyrax Error 404&amp;body=%0A%0A%0A%0A%0A# -- -- -- -- -- -- -- -- -- -- -- -- -- -- -- -- --%0A# %0A# We&#39;re sorry you had a problem using the server.%0A# Please use the space above to describe what you%0A# were trying to do and we will try to assist you.%0A# Thanks,%0A# OPeNDAP Support.%0A# %0A# -- -- -- hyrax error info, please include -- -- --%0A# %0A# request_url: http://disc1.gesdisc.eosdis.nasa.gov/opendap/error/error404.jsp%0A# protocol: HTTP/1.1%0A# server: disc1.gesdisc.eosdis.nasa.gov%0A# port: 80%0A# javax.servlet.forward.request_uri: /opendap/lim93/MSUUTT.001/1979/L93ch34.7994daygrd_temp_msu.nat.Z.dds%0A# query_string: n/a%0A# status: 404%0A# message: Failed to locate resource: /lim93/MSUUTT.001/1979/L93ch34.7994daygrd_temp_msu.nat.Z.dds%0A# %0A# -- -- -- -- -- -- -- -- -- -- -- -- -- -- -- -- --%0A\">gsfc-dl-help-disc@mail.nasa.gov</a> </p>  </td> </tr></table><hr align=\"left\" size=\"1\" noshade=\"noshade\"/><h1 align=\"center\">Hyrax - Resource Not Found (404)</h1></body></html>\n"
     ]
    },
    {
     "name": "stdout",
     "output_type": "stream",
     "text": [
      "772\n"
     ]
    },
    {
     "name": "stderr",
     "output_type": "stream",
     "text": [
      "syntax error, unexpected WORD_WORD, expecting SCAN_ATTR or SCAN_DATASET or SCAN_ERROR\n",
      "context: <!DOCTYPE^ html PUBLIC \"-//W3C//DTD XHTML 1.0 Transitional//EN\" \"http://www.w3.org/TR/xhtml1/DTD/xhtml1-transitional.dtd\"><html xmlns=\"http://www.w3.org/1999/xhtml\"><head> <meta http-equiv=\"Content-Type\" content=\"text/html; charset=UTF-8\"/> <link rel='stylesheet' href='/opendap/docs/css/contents.css' type='text/css'/> <title>Hyrax - Resource Not Found (404)</title></head><body><p align=\"left\">&nbsp;</p><h1 align=\"center\">Hyrax - Resource Not Found (404)</h1><hr align=\"left\" size=\"1\" noshade=\"noshade\"/><table width=\"100%\" border=\"0\"> <tr> <td> <a href=\"/opendap/docs/images/largeEarth.jpg\"> <img src=\"/opendap/docs/images/smallEarth.jpg\" alt=\"I looked everywhere!\" title=\"I looked everywhere!\" border=\"0\"/> </a> </td> <td> <p align=\"left\">The URL requested does not describe a resource that can be found on this server.</p> <p align=\"left\">If you would like to start at the top level of this server, go <a href=\"/opendap/\"><strong>HERE</strong></a>.</p>  <p align=\"left\">The specific error message associated with your request was:</p> <blockquote> <p><strong>Failed to locate resource: /lim93/MSULST.001/1979/L93ch4.7994daygrd_temp_msu.nat.Z.dds </strong></p> </blockquote>   <p align=\"left\"> If you think that the server is broken (that the URL you submitted should have worked), then please contact the OPeNDAP user support coordinator at: <a href=\"mailto:gsfc-dl-help-disc@mail.nasa.gov?subject=Hyrax Error 404&amp;body=%0A%0A%0A%0A%0A# -- -- -- -- -- -- -- -- -- -- -- -- -- -- -- -- --%0A# %0A# We&#39;re sorry you had a problem using the server.%0A# Please use the space above to describe what you%0A# were trying to do and we will try to assist you.%0A# Thanks,%0A# OPeNDAP Support.%0A# %0A# -- -- -- hyrax error info, please include -- -- --%0A# %0A# request_url: http://disc1.gesdisc.eosdis.nasa.gov/opendap/error/error404.jsp%0A# protocol: HTTP/1.1%0A# server: disc1.gesdisc.eosdis.nasa.gov%0A# port: 80%0A# javax.servlet.forward.request_uri: /opendap/lim93/MSULST.001/1979/L93ch4.7994daygrd_temp_msu.nat.Z.dds%0A# query_string: n/a%0A# status: 404%0A# message: Failed to locate resource: /lim93/MSULST.001/1979/L93ch4.7994daygrd_temp_msu.nat.Z.dds%0A# %0A# -- -- -- -- -- -- -- -- -- -- -- -- -- -- -- -- --%0A\">gsfc-dl-help-disc@mail.nasa.gov</a> </p>  </td> </tr></table><hr align=\"left\" size=\"1\" noshade=\"noshade\"/><h1 align=\"center\">Hyrax - Resource Not Found (404)</h1></body></html>\n"
     ]
    },
    {
     "name": "stdout",
     "output_type": "stream",
     "text": [
      "773\n"
     ]
    },
    {
     "name": "stderr",
     "output_type": "stream",
     "text": [
      "syntax error, unexpected WORD_WORD, expecting SCAN_ATTR or SCAN_DATASET or SCAN_ERROR\n",
      "context: <!DOCTYPE^ html PUBLIC \"-//W3C//DTD XHTML 1.0 Transitional//EN\" \"http://www.w3.org/TR/xhtml1/DTD/xhtml1-transitional.dtd\"><html xmlns=\"http://www.w3.org/1999/xhtml\"><head> <meta http-equiv=\"Content-Type\" content=\"text/html; charset=UTF-8\"/> <link rel='stylesheet' href='/opendap/docs/css/contents.css' type='text/css'/> <title>Hyrax - Resource Not Found (404)</title></head><body><p align=\"left\">&nbsp;</p><h1 align=\"center\">Hyrax - Resource Not Found (404)</h1><hr align=\"left\" size=\"1\" noshade=\"noshade\"/><table width=\"100%\" border=\"0\"> <tr> <td> <a href=\"/opendap/docs/images/largeEarth.jpg\"> <img src=\"/opendap/docs/images/smallEarth.jpg\" alt=\"I looked everywhere!\" title=\"I looked everywhere!\" border=\"0\"/> </a> </td> <td> <p align=\"left\">The URL requested does not describe a resource that can be found on this server.</p> <p align=\"left\">If you would like to start at the top level of this server, go <a href=\"/opendap/\"><strong>HERE</strong></a>.</p>  <p align=\"left\">The specific error message associated with your request was:</p> <blockquote> <p><strong>Failed to locate resource: /lim93/MSUOP.001/1979/L93rain.79daygrd_msu.nat.Z.dds </strong></p> </blockquote>   <p align=\"left\"> If you think that the server is broken (that the URL you submitted should have worked), then please contact the OPeNDAP user support coordinator at: <a href=\"mailto:gsfc-dl-help-disc@mail.nasa.gov?subject=Hyrax Error 404&amp;body=%0A%0A%0A%0A%0A# -- -- -- -- -- -- -- -- -- -- -- -- -- -- -- -- --%0A# %0A# We&#39;re sorry you had a problem using the server.%0A# Please use the space above to describe what you%0A# were trying to do and we will try to assist you.%0A# Thanks,%0A# OPeNDAP Support.%0A# %0A# -- -- -- hyrax error info, please include -- -- --%0A# %0A# request_url: http://disc1.gesdisc.eosdis.nasa.gov/opendap/error/error404.jsp%0A# protocol: HTTP/1.1%0A# server: disc1.gesdisc.eosdis.nasa.gov%0A# port: 80%0A# javax.servlet.forward.request_uri: /opendap/lim93/MSUOP.001/1979/L93rain.79daygrd_msu.nat.Z.dds%0A# query_string: n/a%0A# status: 404%0A# message: Failed to locate resource: /lim93/MSUOP.001/1979/L93rain.79daygrd_msu.nat.Z.dds%0A# %0A# -- -- -- -- -- -- -- -- -- -- -- -- -- -- -- -- --%0A\">gsfc-dl-help-disc@mail.nasa.gov</a> </p>  </td> </tr></table><hr align=\"left\" size=\"1\" noshade=\"noshade\"/><h1 align=\"center\">Hyrax - Resource Not Found (404)</h1></body></html>\n"
     ]
    },
    {
     "name": "stdout",
     "output_type": "stream",
     "text": [
      "774\n",
      "775\n",
      "776\n",
      "777\n",
      "778\n",
      "779\n",
      "780\n",
      "781\n",
      "782\n",
      "783\n",
      "784\n",
      "785\n",
      "786\n",
      "787\n",
      "788\n",
      "789\n",
      "790\n",
      "791\n",
      "792\n",
      "793\n",
      "794\n",
      "795\n",
      "796\n",
      "797\n",
      "798\n",
      "799\n",
      "800\n",
      "801\n",
      "802\n",
      "803\n",
      "804\n",
      "805\n",
      "806\n",
      "807\n",
      "808\n",
      "809\n",
      "810\n",
      "811\n",
      "812\n",
      "813\n",
      "814\n",
      "815\n",
      "816\n",
      "817\n",
      "818\n",
      "819\n",
      "820\n",
      "821\n",
      "822\n",
      "823\n",
      "824\n",
      "825\n",
      "826\n",
      "827\n",
      "828\n",
      "829\n",
      "830\n",
      "831\n",
      "832\n",
      "833\n",
      "834\n",
      "835\n",
      "836\n",
      "837\n",
      "838\n",
      "839\n",
      "840\n",
      "841\n",
      "842\n",
      "843\n",
      "844\n",
      "845\n",
      "846\n",
      "847\n",
      "848\n",
      "849\n",
      "850\n"
     ]
    }
   ],
   "source": [
    "message_out = []\n",
    "short_names_out = []\n",
    "versions_out = []\n",
    "opendap_urls_out = []\n",
    "processing_levels_out = []\n",
    "\n",
    "for i in range(767,np.shape(short_names)[0]):\n",
    "    print(i)\n",
    "    granule = api.short_name(short_names[i]).version(versions[i]).get(1) \n",
    "    for element in granule[0]['links']:\n",
    "        if 'title' in element:\n",
    "            if element['title'] == 'The OPENDAP location for the granule. (GET DATA : OPENDAP DATA)':\n",
    "                # this should return default url so can be on prem or cloud depending on granule\n",
    "                opendap_url = (element['href'])\n",
    "                opendap_urls_out.append(opendap_url)\n",
    "                try:\n",
    "                    xr.open_dataset(opendap_url)\n",
    "                    message_out.append('success')\n",
    "                    short_names_out.append(short_names[i])\n",
    "                    versions_out.append(versions[i])\n",
    "                    processing_levels_out.append(processing_levels[i])\n",
    "                except Exception as e:\n",
    "                    message_out.append(e)\n",
    "                    short_names_out.append(short_names[i])\n",
    "                    versions_out.append(versions[i])\n",
    "                    processing_levels_out.append(processing_levels[i])\n",
    "\n",
    "        #else:\n",
    "            #message_out.append('no opendap url found')\n",
    "    df_out = pd.DataFrame({'short_name':short_names_out,'version':versions_out,'processing_level':processing_levels_out,'message':message_out,'opendap_url':opendap_urls_out})\n",
    "    df_out.to_csv('results_' + provider +  '.csv')\n"
   ]
  }
 ],
 "metadata": {
  "kernelspec": {
   "display_name": ".venv",
   "language": "python",
   "name": "python3"
  },
  "language_info": {
   "codemirror_mode": {
    "name": "ipython",
    "version": 3
   },
   "file_extension": ".py",
   "mimetype": "text/x-python",
   "name": "python",
   "nbconvert_exporter": "python",
   "pygments_lexer": "ipython3",
   "version": "3.9.13"
  }
 },
 "nbformat": 4,
 "nbformat_minor": 2
}
